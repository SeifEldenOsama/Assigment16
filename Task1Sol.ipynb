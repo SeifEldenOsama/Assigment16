{
 "cells": [
  {
   "cell_type": "markdown",
   "id": "759d04ba",
   "metadata": {
    "id": "759d04ba"
   },
   "source": [
    "**1-Write a Python program to calculate the length of a string using 2 ways"
   ]
  },
  {
   "cell_type": "code",
   "execution_count": 1,
   "id": "e434c950",
   "metadata": {
    "id": "e434c950"
   },
   "outputs": [
    {
     "name": "stdout",
     "output_type": "stream",
     "text": [
      "enter a string!seif\n",
      "4\n"
     ]
    }
   ],
   "source": [
    "string=input(\"enter a string!\")\n",
    "print(len(string))"
   ]
  },
  {
   "cell_type": "code",
   "execution_count": 3,
   "id": "7a2dfa32",
   "metadata": {
    "id": "7a2dfa32"
   },
   "outputs": [
    {
     "name": "stdout",
     "output_type": "stream",
     "text": [
      "enter a string!ahmed\n",
      "5\n"
     ]
    }
   ],
   "source": [
    "string=input(\"enter a string!\")\n",
    "counter=0\n",
    "while string:\n",
    "    string=string[1:]\n",
    "    counter+=1\n",
    "print(counter)    "
   ]
  },
  {
   "cell_type": "markdown",
   "id": "d7cc9da7",
   "metadata": {
    "id": "d7cc9da7"
   },
   "source": [
    "**2-Write a Python program to get a string made of the first 2 and last 2 characters of a given string. If the string length is less than 2, return the empty string instead (\"##Sample String : 'w3resource'\n",
    "Expected Result : 'w3ce'\n",
    "##Sample String : 'w3'\n",
    "Expected Result : 'w3w3'\n",
    "##Sample String : ' w'\n",
    "Expected Result : Empty String)"
   ]
  },
  {
   "cell_type": "code",
   "execution_count": 10,
   "id": "dafa9dd8",
   "metadata": {
    "id": "dafa9dd8"
   },
   "outputs": [
    {
     "name": "stdout",
     "output_type": "stream",
     "text": [
      "enter a string!w3\n",
      "w3w3\n"
     ]
    }
   ],
   "source": [
    "string=input(\"enter a string!\")\n",
    "if len(string)<2:\n",
    "    print(\"\")\n",
    "else :\n",
    "    print(string[0:2],end=\"\")\n",
    "    print(string[-2:])"
   ]
  },
  {
   "cell_type": "markdown",
   "id": "1534f956",
   "metadata": {
    "id": "1534f956"
   },
   "source": [
    "**3-Write a Python program to add 'ing' at the end of a given string (length should be at least 3). If the given string already ends with 'ing', add 'ly' instead. If the string length of the given string is less than 3, leave it unchanged. (Sample String : 'abc'\n",
    "Expected Result : 'abcing')"
   ]
  },
  {
   "cell_type": "code",
   "execution_count": 24,
   "id": "7ff8cec4",
   "metadata": {
    "id": "7ff8cec4"
   },
   "outputs": [
    {
     "name": "stdout",
     "output_type": "stream",
     "text": [
      "enter a string!se\n",
      "se\n"
     ]
    }
   ],
   "source": [
    "string=input(\"enter a string!\")\n",
    "if len(string)<3:\n",
    "    print(string)\n",
    "else :\n",
    "    if string[-3:]==\"ing\":\n",
    "        print(string+\"ly\")\n",
    "    else:\n",
    "        print(string+\"ing\")\n",
    "    "
   ]
  },
  {
   "cell_type": "markdown",
   "id": "1c0a6627",
   "metadata": {
    "id": "1c0a6627"
   },
   "source": [
    "**4-Write a Python function that takes a list of words and return the longest word and the length of the longest one\n",
    "(Longest word: Exercises\n",
    "Length of the longest word: 9)"
   ]
  },
  {
   "cell_type": "code",
   "execution_count": 31,
   "id": "397341d9",
   "metadata": {
    "id": "397341d9"
   },
   "outputs": [
    {
     "name": "stdout",
     "output_type": "stream",
     "text": [
      "dghaoidghagsdgsga\n",
      "17\n"
     ]
    }
   ],
   "source": [
    "list1=[\"Seif\",\"ahmed\",\"mohamed\",\"dghaoidghagsdgsga\",\"omar\",\"hesham\",\"mahmoud\"]\n",
    "index=0\n",
    "longestString=\"\"\n",
    "while index!=len(list1):\n",
    "    if len(longestString)<len(list1[index]):\n",
    "        longestString=list1[index]\n",
    "    index+=1    \n",
    "print(longestString)\n",
    "print(len(longestString))"
   ]
  },
  {
   "cell_type": "markdown",
   "id": "53a03a6a",
   "metadata": {
    "id": "53a03a6a"
   },
   "source": [
    "**5-Write a Python program to change a given string to a newly string where the first and last chars have been exchanged using 2 ways (Sample String:abca  Expected Result:ebce)"
   ]
  },
  {
   "cell_type": "code",
   "execution_count": 35,
   "id": "fd327d2a",
   "metadata": {
    "id": "fd327d2a"
   },
   "outputs": [
    {
     "name": "stdout",
     "output_type": "stream",
     "text": [
      "enter a string!game\n",
      "eamg\n"
     ]
    }
   ],
   "source": [
    "string=input(\"enter a string!\")\n",
    "print(string[-1]+string[1:len(string)-1]+string[0])"
   ]
  },
  {
   "cell_type": "code",
   "execution_count": null,
   "id": "285788b4",
   "metadata": {
    "id": "285788b4"
   },
   "outputs": [],
   "source": [
    "string=input(\"enter a string!\")\n"
   ]
  },
  {
   "cell_type": "markdown",
   "id": "25f89808",
   "metadata": {
    "id": "25f89808"
   },
   "source": [
    "**6-Write a Python program to remove characters that have odd index values in a given string (Sample String:abca Expected Result:ac)"
   ]
  },
  {
   "cell_type": "code",
   "execution_count": 37,
   "id": "05959bd7",
   "metadata": {
    "id": "05959bd7"
   },
   "outputs": [
    {
     "name": "stdout",
     "output_type": "stream",
     "text": [
      "enter a string!abca\n",
      "ac"
     ]
    }
   ],
   "source": [
    "string=input(\"enter a string!\")\n",
    "index=0\n",
    "while index!=len(string):\n",
    "    if(index%2==0):\n",
    "        print(string[index],end=\"\")\n",
    "    index+=1           "
   ]
  },
  {
   "cell_type": "markdown",
   "id": "eb16e898",
   "metadata": {
    "id": "eb16e898"
   },
   "source": [
    "**7. You have a list of your favourite marvel super heros.\n",
    "```\n",
    "heros=['spider man','thor','hulk','iron man','captain america']\n",
    "```\n",
    "\n",
    "Using this find out,\n",
    "\n",
    "    1. Length of the list\n",
    "    2. Add 'black panther' at the end of this list\n",
    "    3. You realize that you need to add 'black panther' after 'hulk',\n",
    "       so remove it from the list first and then add it after 'hulk'\n",
    "    4. Now you don't like thor and hulk because they get angry easily :)\n",
    "       So you want to remove thor and hulk from list and replace them with doctor strange (because he is cool).\n",
    "       Do that with one line of code.\n",
    "    5. Sort the heros list in alphabetical order (Hint. Use dir() functions to list down all functions available in list)"
   ]
  },
  {
   "cell_type": "code",
   "execution_count": 57,
   "id": "01ce6cf5",
   "metadata": {
    "id": "01ce6cf5"
   },
   "outputs": [
    {
     "name": "stdout",
     "output_type": "stream",
     "text": [
      "5\n",
      "['black panther', 'captain america', 'doctor strange', 'iron man', 'spider man']\n"
     ]
    }
   ],
   "source": [
    "heros=['spider man','thor','hulk','iron man','captain america']\n",
    "print(len(heros))\n",
    "heros.append(\"black panther\")\n",
    "heros.remove(\"black panther\")\n",
    "heros.insert(3,\"black panther\")\n",
    "heros.pop(1),heros.pop(1),heros.insert(1,\"doctor strange\")\n",
    "heros.sort()\n",
    "print(heros)"
   ]
  },
  {
   "cell_type": "markdown",
   "id": "4e8125f1",
   "metadata": {
    "id": "4e8125f1"
   },
   "source": [
    "**8-Write a Python script that takes input from the user and displays that input back in upper and lower cases"
   ]
  },
  {
   "cell_type": "code",
   "execution_count": 58,
   "id": "66c8f778",
   "metadata": {
    "id": "66c8f778"
   },
   "outputs": [
    {
     "name": "stdout",
     "output_type": "stream",
     "text": [
      "enter a string!seif\n",
      "SEIF\n",
      "seif\n"
     ]
    }
   ],
   "source": [
    "string=input(\"enter a string!\")\n",
    "print(string.upper())\n",
    "print(string.lower())"
   ]
  },
  {
   "cell_type": "markdown",
   "id": "fcd68aa1",
   "metadata": {
    "id": "fcd68aa1"
   },
   "source": [
    "**9-Write a Python function to reverse a string if its length is a multiple of 4"
   ]
  },
  {
   "cell_type": "code",
   "execution_count": 1,
   "id": "0671a931",
   "metadata": {
    "id": "0671a931"
   },
   "outputs": [
    {
     "name": "stdout",
     "output_type": "stream",
     "text": [
      "enter a string!seif\n",
      "fies\n"
     ]
    }
   ],
   "source": [
    "string=input(\"enter a string!\")\n",
    "if len(string)%4==0:\n",
    "    print(string[-1::-1])"
   ]
  },
  {
   "cell_type": "markdown",
   "id": "b577c68d",
   "metadata": {
    "id": "b577c68d"
   },
   "source": [
    "**10- Write a Python program to remove a newline in Python"
   ]
  },
  {
   "cell_type": "code",
   "execution_count": null,
   "id": "e0c6525a",
   "metadata": {
    "id": "e0c6525a"
   },
   "outputs": [],
   "source": [
    "print(\"Hello\",end=\"\")"
   ]
  },
  {
   "cell_type": "markdown",
   "id": "593a68db",
   "metadata": {
    "id": "593a68db"
   },
   "source": [
    "**11- Write a Python program to add prefix text to all of the lines in a string"
   ]
  },
  {
   "cell_type": "code",
   "execution_count": 7,
   "id": "61679db6",
   "metadata": {},
   "outputs": [
    {
     "name": "stdout",
     "output_type": "stream",
     "text": [
      "--Seif elden osama hosney\n",
      "--seif elden osama hosney\n",
      "--seif elden osama hosney\n"
     ]
    }
   ],
   "source": [
    "string=\"\"\"Seif elden osama hosney\n",
    "seif elden osama hosney\n",
    "seif elden osama hosney\"\"\"\n",
    "prefix=\"--\"\n",
    "string=string.splitlines()\n",
    "index=0\n",
    "while index!=len(string):\n",
    "    print(prefix+string[index])\n",
    "    index+=1\n"
   ]
  },
  {
   "cell_type": "markdown",
   "id": "86fa1543",
   "metadata": {
    "id": "86fa1543"
   },
   "source": [
    "**12-Write a Python program to print the following numbers up to 2 decimal places\n",
    "\n",
    "ex:\n",
    "Original Number:  3.1415926                                                                                   \n",
    "Formatted Number: 3.14                                                                                        \n",
    "Original Number:  12.9999                                                                                     \n",
    "Formatted Number: 13.00  \n"
   ]
  },
  {
   "cell_type": "code",
   "execution_count": 66,
   "id": "cd4a9d89",
   "metadata": {
    "id": "cd4a9d89"
   },
   "outputs": [
    {
     "name": "stdout",
     "output_type": "stream",
     "text": [
      "enter number!12.9999\n",
      "13.00\n"
     ]
    }
   ],
   "source": [
    "number=float(input(\"enter number!\"))\n",
    "print(\"{:.2f}\".format(number))"
   ]
  },
  {
   "cell_type": "markdown",
   "id": "452c0ab0",
   "metadata": {
    "id": "452c0ab0"
   },
   "source": [
    "**13-Write a Python program to print the following numbers up to 2 decimal places with a sign"
   ]
  },
  {
   "cell_type": "code",
   "execution_count": 13,
   "id": "73e82479",
   "metadata": {
    "id": "73e82479"
   },
   "outputs": [
    {
     "name": "stdout",
     "output_type": "stream",
     "text": [
      "enter a number!.214\n",
      "+0.21\n"
     ]
    }
   ],
   "source": [
    "number=float(input(\"enter a number!\"))\n",
    "print(\"{:+.2f}\".format(number))"
   ]
  },
  {
   "cell_type": "markdown",
   "id": "32b1811a",
   "metadata": {
    "id": "32b1811a"
   },
   "source": [
    "**14-Write a Python program to display a number with a comma separator"
   ]
  },
  {
   "cell_type": "code",
   "execution_count": null,
   "id": "f30fc0b6",
   "metadata": {
    "id": "f30fc0b6"
   },
   "outputs": [],
   "source": [
    "##############"
   ]
  },
  {
   "cell_type": "markdown",
   "id": "0477f487",
   "metadata": {
    "id": "0477f487"
   },
   "source": [
    "**15-Write a Python program to reverse a string using 2 ways"
   ]
  },
  {
   "cell_type": "code",
   "execution_count": 14,
   "id": "aa8beec8",
   "metadata": {
    "id": "aa8beec8"
   },
   "outputs": [
    {
     "name": "stdout",
     "output_type": "stream",
     "text": [
      "enter a string!seif\n",
      "fies\n"
     ]
    }
   ],
   "source": [
    "string=input(\"enter a string!\")\n",
    "print(string[-1::-1])"
   ]
  },
  {
   "cell_type": "code",
   "execution_count": 15,
   "id": "2135bab6",
   "metadata": {},
   "outputs": [
    {
     "name": "stdout",
     "output_type": "stream",
     "text": [
      "enter a string!seif\n",
      "fies"
     ]
    }
   ],
   "source": [
    "string=input(\"enter a string!\")\n",
    "index=len(string)-1\n",
    "while index!=-1:\n",
    "    print(string[index],end=\"\")\n",
    "    index-=1"
   ]
  },
  {
   "cell_type": "markdown",
   "id": "3adf5669",
   "metadata": {
    "id": "3adf5669"
   },
   "source": [
    "**16-Write a Python program to remove spaces from a given string"
   ]
  },
  {
   "cell_type": "code",
   "execution_count": 29,
   "id": "b4f22602",
   "metadata": {
    "id": "b4f22602"
   },
   "outputs": [
    {
     "name": "stdout",
     "output_type": "stream",
     "text": [
      "enter a string!afds dsf dsf sd\n",
      "afdsdsfdsfsd\n"
     ]
    }
   ],
   "source": [
    "string=input(\"enter a string!\")\n",
    "print(string.replace(\" \",\"\"))"
   ]
  },
  {
   "cell_type": "markdown",
   "id": "509998e2",
   "metadata": {
    "id": "509998e2"
   },
   "source": [
    "**17-write a Python program to swap first and last element of any list."
   ]
  },
  {
   "cell_type": "code",
   "execution_count": 32,
   "id": "68692d7f",
   "metadata": {
    "id": "68692d7f"
   },
   "outputs": [
    {
     "name": "stdout",
     "output_type": "stream",
     "text": [
      "[1, 2, 3, 4, 5, 6, 7, 8]\n",
      "[8, 2, 3, 4, 5, 6, 7, 1]\n"
     ]
    }
   ],
   "source": [
    "list1=[1,2,3,4,5,6,7,8]\n",
    "print(list1)\n",
    "Temp=list1[0]\n",
    "list1[0]=list1[len(list1)-1]\n",
    "list1[len(list1)-1]=Temp\n",
    "print(list1)"
   ]
  },
  {
   "cell_type": "markdown",
   "id": "959e0837",
   "metadata": {
    "id": "959e0837"
   },
   "source": [
    "**18-Given a list in Python and provided the positions of the elements, write a program to swap the two elements in the list. (Input : List = [23, 65, 19, 90], pos1 = 1, pos2 = 3\n",
    "Output : [19, 65, 23, 90])"
   ]
  },
  {
   "cell_type": "code",
   "execution_count": 33,
   "id": "225d8c6d",
   "metadata": {
    "id": "225d8c6d"
   },
   "outputs": [
    {
     "name": "stdout",
     "output_type": "stream",
     "text": [
      "[23, 65, 19, 90]\n",
      "[19, 65, 23, 90]\n"
     ]
    }
   ],
   "source": [
    "List = [23, 65, 19, 90]\n",
    "print(List)\n",
    "Temp=List[0]\n",
    "List[0]=List[2]\n",
    "List[2]=Temp\n",
    "print(List)"
   ]
  },
  {
   "cell_type": "markdown",
   "id": "66fc6682",
   "metadata": {
    "id": "66fc6682"
   },
   "source": [
    "**19- search for the all ways to know the length of the list"
   ]
  },
  {
   "cell_type": "code",
   "execution_count": 34,
   "id": "SXxZeSP45yDo",
   "metadata": {
    "id": "SXxZeSP45yDo"
   },
   "outputs": [
    {
     "name": "stdout",
     "output_type": "stream",
     "text": [
      "6\n"
     ]
    }
   ],
   "source": [
    "list1=[1,2,3,4,5,6]\n",
    "print(len(list1))"
   ]
  },
  {
   "cell_type": "code",
   "execution_count": 35,
   "id": "553d5a2e",
   "metadata": {},
   "outputs": [
    {
     "name": "stdout",
     "output_type": "stream",
     "text": [
      "6\n"
     ]
    }
   ],
   "source": [
    "list1=[1,2,3,4,5,6]\n",
    "counter=0\n",
    "while list1:\n",
    "    list1=list1[1:]\n",
    "    counter+=1\n",
    "print(counter)    "
   ]
  },
  {
   "cell_type": "code",
   "execution_count": 38,
   "id": "69c48f22",
   "metadata": {},
   "outputs": [
    {
     "name": "stdout",
     "output_type": "stream",
     "text": [
      "7\n"
     ]
    }
   ],
   "source": [
    "list1=[1,2,3,4,5,6]\n",
    "counter=0\n",
    "while list1:\n",
    "    list1.pop(0)\n",
    "    counter+=1\n",
    "print(counter)    "
   ]
  },
  {
   "cell_type": "markdown",
   "id": "19hrUOPJ5rmq",
   "metadata": {
    "id": "19hrUOPJ5rmq"
   },
   "source": [
    "**20-write a Python code to find the Maximum number of list of numbers."
   ]
  },
  {
   "cell_type": "code",
   "execution_count": 42,
   "id": "1a89b9d3",
   "metadata": {
    "id": "1a89b9d3"
   },
   "outputs": [
    {
     "name": "stdout",
     "output_type": "stream",
     "text": [
      "6\n"
     ]
    }
   ],
   "source": [
    "list1=[1,2,3,4,5,6]\n",
    "print(max(list1))"
   ]
  },
  {
   "cell_type": "markdown",
   "id": "tdz5uTRQ50aA",
   "metadata": {
    "id": "tdz5uTRQ50aA"
   },
   "source": [
    "**21-write a Python code to find the Minimum number of list of numbers."
   ]
  },
  {
   "cell_type": "code",
   "execution_count": 43,
   "id": "21f8cbd6",
   "metadata": {
    "id": "21f8cbd6"
   },
   "outputs": [
    {
     "name": "stdout",
     "output_type": "stream",
     "text": [
      "1\n"
     ]
    }
   ],
   "source": [
    "list1=[1,2,3,4,5,6]\n",
    "print(min(list1))"
   ]
  },
  {
   "cell_type": "markdown",
   "id": "96822d96",
   "metadata": {
    "id": "96822d96"
   },
   "source": [
    "**22-search for if an elem is existing in list"
   ]
  },
  {
   "cell_type": "code",
   "execution_count": 45,
   "id": "51ca5c9a",
   "metadata": {
    "id": "51ca5c9a"
   },
   "outputs": [
    {
     "name": "stdout",
     "output_type": "stream",
     "text": [
      "enter a number to check!55\n",
      "element not exists!\n"
     ]
    }
   ],
   "source": [
    "string=int(input(\"enter a number to check!\"))\n",
    "list1=[1,2,3,4,5,6]\n",
    "if string in list1:\n",
    "    print(\"element exists!\")\n",
    "else:\n",
    "    print(\"element not exists!\")"
   ]
  },
  {
   "cell_type": "markdown",
   "id": "d9557da7",
   "metadata": {
    "id": "d9557da7"
   },
   "source": [
    "**23- clear python list using different ways"
   ]
  },
  {
   "cell_type": "code",
   "execution_count": 46,
   "id": "b69858a3",
   "metadata": {
    "id": "b69858a3"
   },
   "outputs": [
    {
     "name": "stdout",
     "output_type": "stream",
     "text": [
      "[]\n"
     ]
    }
   ],
   "source": [
    "list1=[1,2,3,4,5,6]\n",
    "list1.clear()\n",
    "print(list1)"
   ]
  },
  {
   "cell_type": "code",
   "execution_count": 47,
   "id": "fbb1aa3e",
   "metadata": {},
   "outputs": [
    {
     "name": "stdout",
     "output_type": "stream",
     "text": [
      "[]\n"
     ]
    }
   ],
   "source": [
    "list1=[1,2,3,4,5,6]\n",
    "while list1:\n",
    "    list1.pop(0)\n",
    "print(list1)    "
   ]
  },
  {
   "cell_type": "code",
   "execution_count": 48,
   "id": "2869fa19",
   "metadata": {},
   "outputs": [
    {
     "name": "stdout",
     "output_type": "stream",
     "text": [
      "[]\n"
     ]
    }
   ],
   "source": [
    "list1=[1,2,3,4,5,6]\n",
    "while list1:\n",
    "    list1=list1[1:]\n",
    "print(list1)    "
   ]
  },
  {
   "cell_type": "markdown",
   "id": "52160e88",
   "metadata": {
    "id": "52160e88"
   },
   "source": [
    "**24-remove duplicated elements from a list"
   ]
  },
  {
   "cell_type": "code",
   "execution_count": 4,
   "id": "5e362228",
   "metadata": {
    "id": "5e362228"
   },
   "outputs": [
    {
     "name": "stdout",
     "output_type": "stream",
     "text": [
      "[1, 2, 3, 4, 5, 6]\n"
     ]
    }
   ],
   "source": [
    "# first way\n",
    "list1=[1,2,3,4,5,5,5,6,6,6]\n",
    "print(list(set(list1)))"
   ]
  },
  {
   "cell_type": "code",
   "execution_count": 5,
   "id": "fdbfd496",
   "metadata": {},
   "outputs": [
    {
     "name": "stdout",
     "output_type": "stream",
     "text": [
      "[1, 2, 3, 4, 5, 6]\n"
     ]
    }
   ],
   "source": [
    "# second way\n",
    "list1=[1,2,3,4,5,5,5,6,6,6]\n",
    "list2=[]\n",
    "index=0\n",
    "while index!=len(list1):\n",
    "    if list1[index] in list2:\n",
    "        list1.pop(index)\n",
    "    else:   \n",
    "        list2.append(list1[index])\n",
    "        index+=1\n",
    "print(list1)        "
   ]
  },
  {
   "cell_type": "markdown",
   "id": "c26b6e9f",
   "metadata": {
    "id": "c26b6e9f"
   },
   "source": [
    "**25-write a python program to count unique values inside a list using different ways"
   ]
  },
  {
   "cell_type": "code",
   "execution_count": 7,
   "id": "72132667",
   "metadata": {
    "id": "72132667"
   },
   "outputs": [
    {
     "name": "stdout",
     "output_type": "stream",
     "text": [
      "[1, 2, 3, 4, 5, 6]\n"
     ]
    }
   ],
   "source": [
    "# first way\n",
    "list1=[1,2,3,4,5,5,5,6,6,6]\n",
    "print(list(set(list1)))"
   ]
  },
  {
   "cell_type": "code",
   "execution_count": 8,
   "id": "b81dc86a",
   "metadata": {},
   "outputs": [
    {
     "name": "stdout",
     "output_type": "stream",
     "text": [
      "[1, 2, 3, 4, 5, 6]\n"
     ]
    }
   ],
   "source": [
    "# second way\n",
    "list1=[1,2,3,4,5,5,5,6,6,6]\n",
    "list2=[]\n",
    "index=0\n",
    "while index!=len(list1):\n",
    "    if list1[index] in list2:\n",
    "        list1.pop(index)\n",
    "    else:   \n",
    "        list2.append(list1[index])\n",
    "        index+=1\n",
    "print(list1)   "
   ]
  },
  {
   "cell_type": "markdown",
   "id": "fed6677c",
   "metadata": {
    "id": "fed6677c"
   },
   "source": [
    "**26-write a python program Extract all elements with Frequency greater than K (Input : test_list = [4, 6, 4, 3, 3, 4, 3, 4, 3, 8], K = 3\n",
    "Output : [4, 3] )"
   ]
  },
  {
   "cell_type": "code",
   "execution_count": null,
   "id": "d81f3f9d",
   "metadata": {
    "id": "d81f3f9d"
   },
   "outputs": [],
   "source": [
    "##########"
   ]
  },
  {
   "cell_type": "markdown",
   "id": "caca5224",
   "metadata": {
    "id": "caca5224"
   },
   "source": [
    "**27-write a python program to find the Strongest Neighbour (Input: 1 2 2 3 4 5\n",
    "Output:  5)"
   ]
  },
  {
   "cell_type": "code",
   "execution_count": 28,
   "id": "39fbd9b2",
   "metadata": {
    "id": "39fbd9b2"
   },
   "outputs": [
    {
     "name": "stdout",
     "output_type": "stream",
     "text": [
      "5\n"
     ]
    }
   ],
   "source": [
    "list1=[1,2,2,3,4,5]\n",
    "strongest=list1[0]\n",
    "for i in list1:\n",
    "    if i>strongest:\n",
    "        strongest=i\n",
    "print(strongest)        "
   ]
  },
  {
   "cell_type": "markdown",
   "id": "a9fa8baf",
   "metadata": {
    "id": "a9fa8baf"
   },
   "source": [
    "**28-write a Python Program to print all Possible Combinations from the three Digits (Input: [1, 2, 3]\n",
    "Output:\n",
    "1 2 3 ##\n",
    "1 3 2 ##\n",
    "2 1 3 ##\n",
    "2 3 1 ##\n",
    "3 1 2 ##\n",
    "3 2 1)"
   ]
  },
  {
   "cell_type": "code",
   "execution_count": 22,
   "id": "8c520a76",
   "metadata": {
    "id": "8c520a76"
   },
   "outputs": [
    {
     "name": "stdout",
     "output_type": "stream",
     "text": [
      "123     132    213     231    312     321    "
     ]
    }
   ],
   "source": [
    "ListInput=[1,2,3]\n",
    "index=0\n",
    "flag=0\n",
    "while flag<3:\n",
    "    index=flag\n",
    "    print(ListInput[index],end=\"\")\n",
    "    for i in range(0,3):\n",
    "        if index!=i:\n",
    "            print(ListInput[i],end=\"\")\n",
    "    print(\"     \",end=\"\")        \n",
    "    print(ListInput[index],end=\"\")        \n",
    "    for i in range(2,-1,-1):\n",
    "        if index!=i:\n",
    "            print(ListInput[i],end=\"\")\n",
    "    flag+=1             \n",
    "    print(\"    \",end=\"\")              "
   ]
  },
  {
   "cell_type": "markdown",
   "id": "5288bb89",
   "metadata": {
    "id": "5288bb89"
   },
   "source": [
    "**29-write a Python program to find all the Combinations in the list with the given condition (Input: test_list = [1,2,3]\n",
    "Output:\n",
    " [1], [1, 2], [1, 2, 3], [1, 3]\n",
    " [2], [2, 3], [3])"
   ]
  },
  {
   "cell_type": "code",
   "execution_count": 58,
   "id": "59b89646",
   "metadata": {
    "id": "59b89646"
   },
   "outputs": [
    {
     "name": "stdout",
     "output_type": "stream",
     "text": [
      "[1],[2],[3],[1, 2],[2, 3],[1, 3],[[1, 2, 3]]"
     ]
    }
   ],
   "source": [
    "ListInput=[1,2,3]\n",
    "list1=[]\n",
    "flag=0\n",
    "for i in range(0,3):\n",
    "    list1.append(ListInput[i])\n",
    "    print(list1,end=\",\")\n",
    "    list1.clear()\n",
    "i=0    \n",
    "while not list1:\n",
    "    list1.append(ListInput[i])\n",
    "    list1.append(ListInput[i+1])\n",
    "    print(list1,end=\",\")\n",
    "    list1.clear()\n",
    "    list1.append(ListInput[i+1])\n",
    "    list1.append(ListInput[i+2])\n",
    "    print(list1,end=\",\")\n",
    "    list1.clear()\n",
    "    list1.append(ListInput[i])\n",
    "    list1.append(ListInput[i+2])\n",
    "    print(list1,end=\",\")\n",
    "    list1.clear()\n",
    "    list1.append(ListInput[i:])\n",
    "    print(list1,end=\"\")\n",
    "              "
   ]
  },
  {
   "cell_type": "markdown",
   "id": "39973705",
   "metadata": {
    "id": "39973705"
   },
   "source": [
    "**30-write a Python program to get all unique combinations of two Lists (List_1 = [\"a\",\"b\"]\n",
    "List_2 = [1,2]\n",
    "Unique_combination = [[('a',1),('b',2)],[('a',2),('b',1)]] )"
   ]
  },
  {
   "cell_type": "code",
   "execution_count": 16,
   "id": "8c4ba22b",
   "metadata": {
    "id": "8c4ba22b"
   },
   "outputs": [
    {
     "name": "stdout",
     "output_type": "stream",
     "text": [
      "[[('a', 1)], [('a', 2)], [('b', 1)], [('b', 2)]]\n"
     ]
    }
   ],
   "source": [
    "List1=[\"a\",\"b\"]\n",
    "List2=[1,2]\n",
    "Unique_combination=[]\n",
    "for i in List1:\n",
    "    for j in List2:\n",
    "        Unique_combination.append([(i,j)])\n",
    "print(Unique_combination)     \n"
   ]
  },
  {
   "cell_type": "markdown",
   "id": "255fd554",
   "metadata": {
    "id": "255fd554"
   },
   "source": [
    "**31- Write a Python program that finds all pairs of elements in a list whose sum is equal to a given value."
   ]
  },
  {
   "cell_type": "code",
   "execution_count": 19,
   "id": "c2d94e1f",
   "metadata": {
    "id": "c2d94e1f"
   },
   "outputs": [
    {
     "name": "stdout",
     "output_type": "stream",
     "text": [
      "equal!\n"
     ]
    }
   ],
   "source": [
    "given_value=55\n",
    "List=[1,2,3,4,5,6,7,8,9,10]\n",
    "if given_value==sum(List):\n",
    "    print(\"equal!\")\n",
    "else:\n",
    "    print(\"not equal!\")"
   ]
  },
  {
   "cell_type": "markdown",
   "id": "-74fqJe7BnOk",
   "metadata": {
    "id": "-74fqJe7BnOk"
   },
   "source": [
    "**32- I have a string variable called s='maine 200 banana khaye'. This of course is a wrong statement, the correct statement is 'maine 10 samosa khaye'. Replace incorrect words in original strong with new ones and print the new string. Also try to do this in one line."
   ]
  },
  {
   "cell_type": "code",
   "execution_count": 20,
   "id": "OG2czwLvBzQy",
   "metadata": {
    "id": "OG2czwLvBzQy"
   },
   "outputs": [
    {
     "name": "stdout",
     "output_type": "stream",
     "text": [
      "maine 10 samosa khaye\n"
     ]
    }
   ],
   "source": [
    "wrong_string=\"maine 200 banana khaye\"\n",
    "correct_string=wrong_string.replace(\"200 banana\",\"10 samosa\")\n",
    "print(correct_string)"
   ]
  },
  {
   "cell_type": "markdown",
   "id": "RXUy-aQmB7UP",
   "metadata": {
    "id": "RXUy-aQmB7UP"
   },
   "source": [
    "**33.  You have a list of your favourite marvel super heros.\n",
    "```\n",
    "heros=['spider man','thor','hulk','iron man','captain america']\n",
    "```\n",
    "\n",
    "Using this find out,\n",
    "\n",
    "    1. Length of the list\n",
    "    2. Add 'black panther' at the end of this list\n",
    "    3. You realize that you need to add 'black panther' after 'hulk',\n",
    "       so remove it from the list first and then add it after 'hulk'\n",
    "    4. Now you don't like thor and hulk because they get angry easily :)\n",
    "       So you want to remove thor and hulk from list and replace them with doctor strange (because he is cool).\n",
    "       Do that with one line of code.\n",
    "    5. Sort the heros list in alphabetical order (Hint. Use dir() functions to list down all functions available in list)"
   ]
  },
  {
   "cell_type": "code",
   "execution_count": 24,
   "id": "7QBxB-9eB9U5",
   "metadata": {
    "id": "7QBxB-9eB9U5"
   },
   "outputs": [
    {
     "name": "stdout",
     "output_type": "stream",
     "text": [
      "5\n",
      "['black panther', 'captain america', 'doctor strange', 'iron man', 'spider man']\n"
     ]
    }
   ],
   "source": [
    "heros=['spider man','thor','hulk','iron man','captain america']\n",
    "print(len(heros))\n",
    "heros.append(\"black panther\")\n",
    "heros.remove(\"black panther\")\n",
    "heros.insert(3,\"black panther\")\n",
    "heros.pop(1),heros.pop(1),heros.insert(1,\"doctor strange\")\n",
    "heros.sort()\n",
    "print(heros)"
   ]
  }
 ],
 "metadata": {
  "colab": {
   "provenance": []
  },
  "kernelspec": {
   "display_name": "Python 3 (ipykernel)",
   "language": "python",
   "name": "python3"
  },
  "language_info": {
   "codemirror_mode": {
    "name": "ipython",
    "version": 3
   },
   "file_extension": ".py",
   "mimetype": "text/x-python",
   "name": "python",
   "nbconvert_exporter": "python",
   "pygments_lexer": "ipython3",
   "version": "3.11.5"
  }
 },
 "nbformat": 4,
 "nbformat_minor": 5
}
